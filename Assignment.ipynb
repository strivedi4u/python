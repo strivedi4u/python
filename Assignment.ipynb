{
  "nbformat": 4,
  "nbformat_minor": 0,
  "metadata": {
    "colab": {
      "name": "Assignment.ipynb",
      "provenance": [],
      "collapsed_sections": [],
      "toc_visible": true,
      "include_colab_link": true
    },
    "kernelspec": {
      "display_name": "Python 3",
      "name": "python3"
    },
    "language_info": {
      "name": "python"
    }
  },
  "cells": [
    {
      "cell_type": "markdown",
      "metadata": {
        "id": "view-in-github",
        "colab_type": "text"
      },
      "source": [
        "<a href=\"https://colab.research.google.com/github/trivedi2u/python/blob/main/Assignment.ipynb\" target=\"_parent\"><img src=\"https://colab.research.google.com/assets/colab-badge.svg\" alt=\"Open In Colab\"/></a>"
      ]
    },
    {
      "cell_type": "markdown",
      "metadata": {
        "id": "y8Ridlc3ACZA"
      },
      "source": [
        "Q No. 1 : Write a program to Print the datatypes of the following data objects as:\n",
        "a) 5\n",
        "b) 2.0\n",
        "c) 1+2j\n",
        "d) “Biochemistry"
      ]
    },
    {
      "cell_type": "code",
      "metadata": {
        "colab": {
          "background_save": true
        },
        "id": "0sP8j_3oAByw",
        "outputId": "131d5edf-2bc4-409d-8732-a2970bcf5ed4"
      },
      "source": [
        "data = input(\"Please enter any data to know its datatype :\")\n",
        "print(type(data))\n"
      ],
      "execution_count": null,
      "outputs": [
        {
          "output_type": "stream",
          "text": [
            "<class 'str'>\n"
          ],
          "name": "stdout"
        }
      ]
    },
    {
      "cell_type": "markdown",
      "metadata": {
        "id": "r8VlvGgwB4-N"
      },
      "source": [
        "Q. No. 2 : Write a program to reverse a string using for loop\n",
        "S1 = \"Engineering College\""
      ]
    },
    {
      "cell_type": "code",
      "metadata": {
        "colab": {
          "base_uri": "https://localhost:8080/"
        },
        "id": "2cokBYIa_l-G",
        "outputId": "52121308-5dbe-4f2f-c8d9-94f6662eab8a"
      },
      "source": [
        "#Given String\n",
        "S1 = \"Engineering College\"\n",
        "reverse = list(S1)\n",
        "for i in range(0,len(S1)):\n",
        "  reverse[i] = S1[-i-1]\n",
        "rev = reverse[0]\n",
        "for i in range(1,len(S1)):\n",
        "  rev = rev+reverse[i]\n",
        "print(rev) "
      ],
      "execution_count": null,
      "outputs": [
        {
          "output_type": "stream",
          "text": [
            "egelloC gnireenignE\n"
          ],
          "name": "stdout"
        }
      ]
    },
    {
      "cell_type": "markdown",
      "metadata": {
        "id": "wwI-hypaAAuQ"
      },
      "source": [
        "Q.No.3 : Write a program that reads a string and returns a table of the letters of the alphabet in \n",
        "alphabetical order which occur in the string together with the number of times each letter \n",
        "occurs. Case should be ignored."
      ]
    },
    {
      "cell_type": "code",
      "metadata": {
        "id": "9_x95Lt1rhJG",
        "colab": {
          "base_uri": "https://localhost:8080/"
        },
        "outputId": "23d14230-00eb-47f8-a464-203cf6170fbb"
      },
      "source": [
        "\n",
        "sample = input(\"Please enter any statement :\")\n",
        "\n",
        "sample1 = sample.lower()\n",
        "sample2 = set(sample1)\n",
        " \n",
        "sample3 = list(sample2)\n",
        "\n",
        "for x in sample3:\n",
        "  if x ==\" \" or x ==\".\" or x ==\",\":\n",
        "    sample3.remove(x)\n",
        "sample4 = sorted(sample3)\n",
        "# print(sample3[3]>sample3[2])\n",
        "# i=0\n",
        "# while i<len(sample3)-1:\n",
        "#  for y in range(0,len(sample3)-1):\n",
        "#   if sample3[i]>sample3[i+1]:\n",
        "#     sample3[i+1] = sample3[i] \n",
        "# i+=1\n",
        "\n",
        "for x in sample4:\n",
        "  if x!=\" \":\n",
        "    repeat = sample1.count(x)\n",
        "    \n",
        "    print(x,repeat)\n"
      ],
      "execution_count": null,
      "outputs": [
        {
          "output_type": "stream",
          "text": [
            "Please enter any statement :I am Shashank Kumar Trivedi\n",
            "a 4\n",
            "d 1\n",
            "e 1\n",
            "h 2\n",
            "i 3\n",
            "k 2\n",
            "m 2\n",
            "n 1\n",
            "r 2\n",
            "s 2\n",
            "t 1\n",
            "u 1\n",
            "v 1\n"
          ],
          "name": "stdout"
        }
      ]
    },
    {
      "cell_type": "markdown",
      "metadata": {
        "id": "eeqJjmLjvWBP"
      },
      "source": [
        "Q. No.4 : Create a dictionary to keep track of your friend’s birthdays. Create a dictionary with names \n",
        "and birthdays of friend’s. If user enters the name of the friend then it should return the \n",
        "birthday of the person. The interactive dictionary should be like this\n",
        "Welcome to the dictionary!!!\n",
        "I will help you track the birthday of your friend!!!\n",
        "Following are the names of your friends mentioned in the dictionary\n",
        "Pallavi\n",
        "Simran\n",
        "Vishal\n",
        "Diksha\n",
        "Ankit\n",
        "Whose birthday you want to see?"
      ]
    },
    {
      "cell_type": "code",
      "metadata": {
        "colab": {
          "base_uri": "https://localhost:8080/"
        },
        "id": "jdeBHQyYvVaY",
        "outputId": "1de4c921-3a73-463c-acaf-36dfece74953"
      },
      "source": [
        "print(\"Welcome to the dictionary!!!\")\n",
        "print(\"I will help you track the birthday of your friend!!! Following are the names of your friends mentioned in the dictionary\")\n",
        "\n",
        "friend = {\"Pallavi\":\"10/02/2000\",\"Simran\":\"10/01/2002\",\"Vishal\":\"10/01/2001\",\"Diksha\":\"30/04/2001\",\"Ankit\":\"16/05/1990\"}\n",
        "for x in friend.keys():\n",
        "  print(x)\n",
        "name = input(\"Whose birthday you want to see?\")\n",
        "print(friend[name])"
      ],
      "execution_count": null,
      "outputs": [
        {
          "output_type": "stream",
          "text": [
            "Welcome to the dictionary!!!\n",
            "I will help you track the birthday of your friend!!! Following are the names of your friends mentioned in the dictionary\n",
            "Pallavi\n",
            "Simran\n",
            "Vishal\n",
            "Diksha\n",
            "Ankit\n",
            "Whose birthday you want to see?Simran\n",
            "10/01/2002\n"
          ],
          "name": "stdout"
        }
      ]
    },
    {
      "cell_type": "markdown",
      "metadata": {
        "id": "e38AogwHvVMi"
      },
      "source": [
        "Q. No. 5 : Create a list consisting of 12 integers and take input from the user. Now create \n",
        "a list to remove all the duplicate elements and display the new list"
      ]
    },
    {
      "cell_type": "code",
      "metadata": {
        "colab": {
          "base_uri": "https://localhost:8080/"
        },
        "id": "6E4jSaAzEXxb",
        "outputId": "674fbe4a-ff6e-4ada-8fb5-3bc926ccf420"
      },
      "source": [
        " list = [int(x) for x in input(\"Please enter 12 numbers using commas e.g. 4,5,43\").split(',')]\n",
        " done = set(list)\n",
        " for x in done:\n",
        "   print(x)"
      ],
      "execution_count": null,
      "outputs": [
        {
          "output_type": "stream",
          "text": [
            "Please enter 12 numbers using commas e.g. 4,5,4312,22,55,22,4,7,4,7,5\n",
            "4\n",
            "5\n",
            "7\n",
            "12\n",
            "22\n",
            "55\n"
          ],
          "name": "stdout"
        }
      ]
    },
    {
      "cell_type": "markdown",
      "metadata": {
        "id": "wFZIciwAEXgY"
      },
      "source": [
        "Q.No. 6 : Given a two Python lists. Iterate both lists simultaneously such that list1 \n",
        "should display item in original order and list2 in reverse order.\n",
        "Eg. L1= [ a, b, c] ; L2=[1, 2, 3]\n",
        "Output:\n",
        "a 3\n",
        "b 2\n",
        "c 1"
      ]
    },
    {
      "cell_type": "code",
      "metadata": {
        "colab": {
          "base_uri": "https://localhost:8080/"
        },
        "id": "xO7bFZnyKMJp",
        "outputId": "509e1d22-9b82-48ba-de4a-7e706aa8620c"
      },
      "source": [
        "# According to the query two list are given\n",
        "l1 = ['a','b','c']\n",
        "l2 = [1,2,3]\n",
        "for x in range(0,len(l1)):\n",
        "  print(l1[x],l2[-x-1])\n",
        "  "
      ],
      "execution_count": null,
      "outputs": [
        {
          "output_type": "stream",
          "text": [
            "a 3\n",
            "b 2\n",
            "c 1\n"
          ],
          "name": "stdout"
        }
      ]
    },
    {
      "cell_type": "markdown",
      "metadata": {
        "id": "iHzbJkFLLheg"
      },
      "source": [
        "Q.No. :7. Create a tuple of integers. Write a program to count the number of elements \n",
        "in the tuple. Now, check whether the number (length of tuple) is present in the \n",
        "tuple, and if present, list the index.\n",
        "Eg. T1 = ( 1, 4, 7, 9, 6, 7)\n",
        "Length/no. of elements=6 \n",
        "(Return index of 6) index of 6= 4"
      ]
    },
    {
      "cell_type": "code",
      "metadata": {
        "colab": {
          "base_uri": "https://localhost:8080/"
        },
        "id": "zF9v9z4uL9PH",
        "outputId": "ba048380-d702-4cab-cb19-c4c87f4d5b0e"
      },
      "source": [
        "t = tuple(int(x) for x in input(\"Please enter number e.g. 33 43 78 3 5 :\").split())\n",
        "for x in t:\n",
        "  if x== len(t):\n",
        "    print(t.index(x))"
      ],
      "execution_count": null,
      "outputs": [
        {
          "output_type": "stream",
          "text": [
            "Please enter number e.g. 33 43 78 3 5 :1 2 5 4 7\n",
            "2\n"
          ],
          "name": "stdout"
        }
      ]
    }
  ]
}