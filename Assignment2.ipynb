{
  "nbformat": 4,
  "nbformat_minor": 0,
  "metadata": {
    "colab": {
      "name": "Assignment2.ipynb",
      "provenance": [],
      "collapsed_sections": [],
      "authorship_tag": "ABX9TyOlsyDzJV07ILYGBFLxSukJ",
      "include_colab_link": true
    },
    "kernelspec": {
      "name": "python3",
      "display_name": "Python 3"
    },
    "language_info": {
      "name": "python"
    }
  },
  "cells": [
    {
      "cell_type": "markdown",
      "metadata": {
        "id": "view-in-github",
        "colab_type": "text"
      },
      "source": [
        "<a href=\"https://colab.research.google.com/github/trivedi2u/python/blob/main/Assignment2.ipynb\" target=\"_parent\"><img src=\"https://colab.research.google.com/assets/colab-badge.svg\" alt=\"Open In Colab\"/></a>"
      ]
    },
    {
      "cell_type": "code",
      "metadata": {
        "colab": {
          "base_uri": "https://localhost:8080/"
        },
        "id": "Hu43lrnAcpW_",
        "outputId": "94c313fd-f3ad-4a79-9a9d-47962229cc9d"
      },
      "source": [
        "def fun(x):\n",
        " if x==1:\n",
        "    x= a+b\n",
        "    print(\"The addition of \",int(a),\"and\" ,int(b), \"is\" ,int(x))\n",
        " if x==2:\n",
        "    x= a-b\n",
        "    print(\"The Subtraction of \",int(a),\"and\" ,int(b), \"is\" ,int(x))\n",
        " if x==3:\n",
        "    x= a*b\n",
        "    print(\"The Multiplication of\",int(a),\"and\" ,int(b), \"is\" ,int(x))\n",
        " if x==4:\n",
        "    x= a/b\n",
        "    print(\"The Division of \",int(a),\"and\" ,int(b), \"is\" ,int(x)) \n",
        "\n",
        "print(\"Enter Two number\")\n",
        "a = int ( input())\n",
        "b = int (input()) \n",
        "print(\"Choose the option \\n 1 – Addition \\n 2 – Subtraction \\n 3 – Multiplication \\n 4 – Division\")\n",
        "c = int(input())\n",
        "fun(c)\n",
        "\n",
        " \n",
        "    "
      ],
      "execution_count": 2,
      "outputs": [
        {
          "output_type": "stream",
          "text": [
            "Enter Two number\n",
            "1\n",
            "5\n",
            "Choose the option \n",
            " 1 – Addition \n",
            " 2 – Subtraction \n",
            " 3 – Multiplication \n",
            " 4 – Division\n",
            "3\n",
            "The Multiplication of 1 and 5 is 6\n"
          ],
          "name": "stdout"
        }
      ]
    },
    {
      "cell_type": "code",
      "metadata": {
        "colab": {
          "base_uri": "https://localhost:8080/"
        },
        "id": "JTw_vvutszCE",
        "outputId": "2f094f71-6d3b-479f-d8c0-7f965cfb304e"
      },
      "source": [
        "def factorial(y):\n",
        "  z=1\n",
        "  for y in range(1,num+1):\n",
        "    z = z*y\n",
        "    y = y-1\n",
        "  print(z)\n",
        "\n",
        "\n",
        "print(\"Enter number\")\n",
        "num = int ( input())\n",
        "factorial(num)"
      ],
      "execution_count": 17,
      "outputs": [
        {
          "output_type": "stream",
          "text": [
            "Enter number\n",
            "4\n",
            "24\n"
          ],
          "name": "stdout"
        }
      ]
    },
    {
      "cell_type": "code",
      "metadata": {
        "colab": {
          "base_uri": "https://localhost:8080/"
        },
        "id": "lJjS62EcvxJU",
        "outputId": "b3fba11e-504b-453c-ecf4-5c0512ed29f1"
      },
      "source": [
        "def odd(x,y):\n",
        "  for x in range(x,y+1):\n",
        "    if x%2!=0:\n",
        "      print(x)\n",
        "\n",
        "print(\"Enter the starting and ending range\")\n",
        "a = int ( input())\n",
        "b = int ( input())\n",
        "odd(a,b)"
      ],
      "execution_count": 19,
      "outputs": [
        {
          "output_type": "stream",
          "text": [
            "Enter the starting and ending range\n",
            "2\n",
            "10\n",
            "3\n",
            "5\n",
            "7\n",
            "9\n"
          ],
          "name": "stdout"
        }
      ]
    },
    {
      "cell_type": "code",
      "metadata": {
        "colab": {
          "base_uri": "https://localhost:8080/"
        },
        "id": "LXHjMCufxkzB",
        "outputId": "211864ba-ed30-4aff-dcbd-cfed66452f2d"
      },
      "source": [
        "def funct (w):\n",
        "  minimum = min(w)\n",
        "  print(minimum)\n",
        "print(\"How many numbers you want to enter\")\n",
        "p = int (input(\"Enter the list of numbers\\n\"))\n",
        "l = list()\n",
        "i=1\n",
        "for i in range(1,p+1):\n",
        "  num = int(input(\"\"))\n",
        "  l.append(num)\n",
        "funct(l)"
      ],
      "execution_count": 43,
      "outputs": [
        {
          "output_type": "stream",
          "text": [
            "How many numbers you want to enter\n",
            "Enter the list of numbers\n",
            "5\n",
            "10\n",
            "5\n",
            "20\n",
            "3\n",
            "30\n",
            "3\n"
          ],
          "name": "stdout"
        }
      ]
    },
    {
      "cell_type": "code",
      "metadata": {
        "id": "RmQlxHjf56px"
      },
      "source": [
        ""
      ],
      "execution_count": null,
      "outputs": []
    },
    {
      "cell_type": "code",
      "metadata": {
        "colab": {
          "base_uri": "https://localhost:8080/"
        },
        "id": "5YweQdnXxzqo",
        "outputId": "3801dd6b-4cf2-413d-8968-3df6d35d43fe"
      },
      "source": [
        "def func(x,y):\n",
        "  p = x*y\n",
        "  print(\"Area of rectangle is\",p)\n",
        "  q = 2*(x+y)\n",
        "  print(\"Perimeter of rectangle is\",q)\n",
        "\n",
        "\n",
        "print(\"Enter the length of the rectangle\")\n",
        "l = int (input())\n",
        "print(\"Enter the breadth of the rectangle\")\n",
        "k = int (input())\n",
        "func(l,k)"
      ],
      "execution_count": 31,
      "outputs": [
        {
          "output_type": "stream",
          "text": [
            "Enter the length of the rectangle\n",
            "5\n",
            "Enter the breadth of the rectangle\n",
            "10\n",
            "Area of rectangle is 50\n",
            "Perimeter of rectangle is 30\n"
          ],
          "name": "stdout"
        }
      ]
    },
    {
      "cell_type": "code",
      "metadata": {
        "colab": {
          "base_uri": "https://localhost:8080/"
        },
        "id": "p6A-ri5L1Rqa",
        "outputId": "03bb47af-f81a-470d-a537-0a40607cbf57"
      },
      "source": [
        "def cheack(n):\n",
        "  if n%2==0:\n",
        "    print(\"Number is even\")\n",
        "  else:\n",
        "    print(\"Number is not even\")\n",
        "print(\"Enter the number you want to check\")\n",
        "m = int ( input())\n",
        "cheack(m)"
      ],
      "execution_count": 32,
      "outputs": [
        {
          "output_type": "stream",
          "text": [
            "Enter the number you want to check\n",
            "5\n",
            "Number is not even\n"
          ],
          "name": "stdout"
        }
      ]
    }
  ]
}